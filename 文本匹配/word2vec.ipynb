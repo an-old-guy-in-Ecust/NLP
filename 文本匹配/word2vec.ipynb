{
 "cells": [
  {
   "cell_type": "code",
   "execution_count": 25,
   "metadata": {
    "collapsed": true
   },
   "outputs": [
    {
     "name": "stderr",
     "output_type": "stream",
     "text": [
      "C:\\Users\\99480\\AppData\\Local\\Temp\\ipykernel_10128\\2363752787.py:5: ParserWarning: Falling back to the 'python' engine because the 'c' engine does not support regex separators (separators > 1 char and different from '\\s+' are interpreted as regex); you can avoid this warning by specifying engine='python'.\n",
      "  train = pd.read_csv('{}/train.tsv'.format(dataname),\n"
     ]
    }
   ],
   "source": [
    "import pandas as pd\n",
    "\n",
    "\n",
    "def load_dataset(dataname):\n",
    "    train = pd.read_csv('{}/train.tsv'.format(dataname),\n",
    "                        sep='[\\t\\f\\r\\v]', names=['query1', 'query2', 'label'])\n",
    "\n",
    "    valid = pd.read_csv('{}/dev.tsv'.format(dataname),\n",
    "                        sep='\\t', names=['query1', 'query2', 'label'])\n",
    "\n",
    "    test = pd.read_csv('{}/test.tsv'.format(dataname),\n",
    "                       sep='\\t', names=['query1', 'query2', 'label'])\n",
    "\n",
    "    return train, valid, test\n",
    "\n",
    "\n",
    "name = 'lcqmc'\n",
    "train, valid, test = load_dataset(name)"
   ]
  },
  {
   "cell_type": "code",
   "execution_count": 26,
   "outputs": [],
   "source": [
    "import jieba\n",
    "\n",
    "for index, dataset in enumerate([train, valid, test]):\n",
    "    if index != 2:\n",
    "        dataset.dropna(axis=0, subset='label', inplace=True)\n",
    "    dataset['cut_q1'] = dataset.apply(\n",
    "        lambda row: jieba.lcut(row['query1']) if row['query1'] is not None else [], axis=1)\n",
    "    dataset['cut_q2'] = dataset.apply(\n",
    "        lambda row: jieba.lcut(row['query2']) if row['query2'] is not None else [], axis=1)"
   ],
   "metadata": {
    "collapsed": false
   }
  },
  {
   "cell_type": "code",
   "execution_count": 27,
   "outputs": [],
   "source": [
    "from gensim.models import Word2Vec\n",
    "from gensim.models.word2vec import LineSentence\n",
    "import numpy as np\n",
    "\n",
    "\"\"\"\n",
    "LineSentence(inp)：格式简单：一句话=一行; 单词已经过预处理并被空格分隔。,inp 为数据路径\n",
    "    size：是每个词的向量维度；\n",
    "    window：是词向量训练时的上下文扫描窗口大小，窗口为5就是考虑前5个词和后5个词；\n",
    "    min-count：设置最低频率，默认是5，如果一个词语在文档中出现的次数小于5，那么就会丢弃；\n",
    "    workers：是训练的进程数（需要更精准的解释，请指正），默认是当前运行机器的处理器核数。这些参数先记住就可以了。\n",
    "    sg ({0, 1}, optional) – 模型的训练算法: 1: skip-gram; 0: CBOW\n",
    "    alpha (float, optional) – 初始学习率\n",
    "    iter (int, optional) – 迭代次数，默认为5\n",
    "\"\"\"\n",
    "cut_dataset = np.concatenate((train[\"cut_q1\"], train[\"cut_q2\"]))  # 必须是切完后的列表，而不是拼成一个字符串\n",
    "output = name + \".model\"\n",
    "model = Word2Vec(cut_dataset, sg=1, vector_size=400, min_count=2, window=5)\n",
    "model.save(output)"
   ],
   "metadata": {
    "collapsed": false
   }
  },
  {
   "cell_type": "code",
   "execution_count": 28,
   "outputs": [],
   "source": [
    "output2 = \"word2vec_\" + name + \".vector\"\n",
    "model.save(output2)"
   ],
   "metadata": {
    "collapsed": false
   }
  },
  {
   "cell_type": "code",
   "execution_count": 29,
   "outputs": [
    {
     "data": {
      "text/plain": "32421"
     },
     "execution_count": 29,
     "metadata": {},
     "output_type": "execute_result"
    }
   ],
   "source": [
    "word2vec_model = Word2Vec.load(output2)\n",
    "k = word2vec_model.wv.index_to_key\n",
    "sum([len(i) >= 2 for i in k])"
   ],
   "metadata": {
    "collapsed": false
   }
  },
  {
   "cell_type": "code",
   "execution_count": null,
   "outputs": [],
   "source": [],
   "metadata": {
    "collapsed": false
   }
  }
 ],
 "metadata": {
  "kernelspec": {
   "display_name": "Python 3",
   "language": "python",
   "name": "python3"
  },
  "language_info": {
   "codemirror_mode": {
    "name": "ipython",
    "version": 2
   },
   "file_extension": ".py",
   "mimetype": "text/x-python",
   "name": "python",
   "nbconvert_exporter": "python",
   "pygments_lexer": "ipython2",
   "version": "2.7.6"
  }
 },
 "nbformat": 4,
 "nbformat_minor": 0
}
