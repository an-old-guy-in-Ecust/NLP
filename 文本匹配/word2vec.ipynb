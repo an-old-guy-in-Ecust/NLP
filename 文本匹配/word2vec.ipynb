{
 "cells": [
  {
   "cell_type": "code",
   "execution_count": 25,
   "metadata": {
    "collapsed": true
   },
   "outputs": [
    {
     "name": "stderr",
     "output_type": "stream",
     "text": [
      "C:\\Users\\99480\\AppData\\Local\\Temp\\ipykernel_10128\\2363752787.py:5: ParserWarning: Falling back to the 'python' engine because the 'c' engine does not support regex separators (separators > 1 char and different from '\\s+' are interpreted as regex); you can avoid this warning by specifying engine='python'.\n",
      "  train = pd.read_csv('{}/train.tsv'.format(dataname),\n"
     ]
    }
   ],
   "source": [
    "import pandas as pd\n",
    "\n",
    "\n",
    "def load_dataset(dataname):\n",
    "    train = pd.read_csv('{}/train.tsv'.format(dataname),\n",
    "                        sep='[\\t\\f\\r\\v]', names=['query1', 'query2', 'label'])\n",
    "\n",
    "    valid = pd.read_csv('{}/dev.tsv'.format(dataname),\n",
    "                        sep='\\t', names=['query1', 'query2', 'label'])\n",
    "\n",
    "    test = pd.read_csv('{}/test.tsv'.format(dataname),\n",
    "                       sep='\\t', names=['query1', 'query2', 'label'])\n",
    "\n",
    "    return train, valid, test\n",
    "\n",
    "\n",
    "name = 'lcqmc'\n",
    "train, valid, test = load_dataset(name)"
   ]
  },
  {
   "cell_type": "code",
   "execution_count": 26,
   "outputs": [],
   "source": [
    "import jieba\n",
    "\n",
    "for index, dataset in enumerate([train, valid, test]):\n",
    "    if index != 2:\n",
    "        dataset.dropna(axis=0, subset='label', inplace=True)\n",
    "    dataset['cut_q1'] = dataset.apply(\n",
    "        lambda row: jieba.lcut(row['query1']) if row['query1'] is not None else [], axis=1)\n",
    "    dataset['cut_q2'] = dataset.apply(\n",
    "        lambda row: jieba.lcut(row['query2']) if row['query2'] is not None else [], axis=1)"
   ],
   "metadata": {
    "collapsed": false
   }
  },
  {
   "cell_type": "code",
   "execution_count": 27,
   "outputs": [],
   "source": [
    "from gensim.models import Word2Vec\n",
    "from gensim.models.word2vec import LineSentence\n",
    "import numpy as np\n",
    "\n",
    "\"\"\"\n",
    "LineSentence(inp)：格式简单：一句话=一行; 单词已经过预处理并被空格分隔。,inp 为数据路径\n",
    "    size：是每个词的向量维度；\n",
    "    window：是词向量训练时的上下文扫描窗口大小，窗口为5就是考虑前5个词和后5个词；\n",
    "    min-count：设置最低频率，默认是5，如果一个词语在文档中出现的次数小于5，那么就会丢弃；\n",
    "    workers：是训练的进程数（需要更精准的解释，请指正），默认是当前运行机器的处理器核数。这些参数先记住就可以了。\n",
    "    sg ({0, 1}, optional) – 模型的训练算法: 1: skip-gram; 0: CBOW\n",
    "    alpha (float, optional) – 初始学习率\n",
    "    iter (int, optional) – 迭代次数，默认为5\n",
    "\"\"\"\n",
    "cut_dataset = np.concatenate((train[\"cut_q1\"], train[\"cut_q2\"]))  # 必须是切完后的列表，而不是拼成一个字符串\n",
    "output = name + \".model\"\n",
    "model = Word2Vec(cut_dataset, sg=1, vector_size=400, min_count=2, window=5)\n",
    "model.save(output)"
   ],
   "metadata": {
    "collapsed": false
   }
  },
  {
   "cell_type": "code",
   "execution_count": 28,
   "outputs": [],
   "source": [
    "output2 = \"word2vec_\" + name + \".vector\"\n",
    "model.save(output2)"
   ],
   "metadata": {
    "collapsed": false
   }
  },
  {
   "cell_type": "code",
   "execution_count": 29,
   "outputs": [
    {
     "data": {
      "text/plain": "32421"
     },
     "execution_count": 29,
     "metadata": {},
     "output_type": "execute_result"
    }
   ],
   "source": [
    "word2vec_model = Word2Vec.load(output2)\n",
    "k = word2vec_model.wv.index_to_key\n",
    "sum([len(i) >= 2 for i in k])"
   ],
   "metadata": {
    "collapsed": false
   }
  },
  {
   "cell_type": "code",
   "execution_count": 30,
   "outputs": [
    {
     "data": {
      "text/plain": "                    query1           query2  label  \\\n0         喜欢打篮球的男生喜欢什么样的女生  爱打篮球的男生喜欢什么样的女生      1   \n1             我手机丢了，我想换个手机      我想买个新手机，求推荐      1   \n2                 大家觉得她好看吗       大家觉得跑男好看吗？      0   \n3                求秋色之空漫画全集        求秋色之空全集漫画      1   \n4       晚上睡觉带着耳机听音乐有什么害处吗？     孕妇可以戴耳机听音乐吗?      0   \n...                    ...              ...    ...   \n238761      女孩子说我是你的汤是什么意思  男孩给女孩说你的眼是海什么意思      0   \n238762         求重生之老公请接招全文     求重生之老公请接招>全文      1   \n238763             求小说电子书，      求《甄嬛》小说电子书！      0   \n238764         杭州有什么好玩的地方？     杭州有什么好玩的地方求推      1   \n238765        我想做卫生巾代理，哪里有   我想做淘宝代理去那找，怎么做      0   \n\n                                            cut_q1  \\\n0                 [喜欢, 打篮球, 的, 男生, 喜欢, 什么样, 的, 女生]   \n1                     [我, 手机, 丢, 了, ，, 我想, 换个, 手机]   \n2                               [大家, 觉得, 她, 好看, 吗]   \n3                              [求, 秋色, 之空, 漫画, 全集]   \n4       [晚上, 睡觉, 带, 着, 耳机, 听, 音乐, 有, 什么, 害处, 吗, ？]   \n...                                            ...   \n238761          [女孩子, 说, 我, 是, 你, 的, 汤, 是, 什么, 意思]   \n238762                   [求, 重生, 之, 老公, 请, 接招, 全文]   \n238763                             [求, 小说, 电子书, ，]   \n238764                   [杭州, 有, 什么, 好玩, 的, 地方, ？]   \n238765                [我, 想, 做, 卫生巾, 代理, ，, 哪里, 有]   \n\n                                       cut_q2  \n0             [爱, 打篮球, 的, 男生, 喜欢, 什么样, 的, 女生]  \n1                     [我想, 买个, 新手机, ，, 求, 推荐]  \n2                    [大家, 觉得, 跑, 男, 好看, 吗, ？]  \n3                         [求, 秋色, 之空, 全集, 漫画]  \n4                [孕妇, 可以, 戴, 耳机, 听, 音乐, 吗, ?]  \n...                                       ...  \n238761  [男孩, 给, 女孩, 说, 你, 的, 眼, 是, 海, 什么, 意思]  \n238762           [求, 重生, 之, 老公, 请, 接招, >, 全文]  \n238763            [求, 《, 甄, 嬛, 》, 小说, 电子书, ！]  \n238764           [杭州, 有, 什么, 好玩, 的, 地方, 求, 推]  \n238765   [我, 想, 做, 淘宝, 代理, 去, 那, 找, ，, 怎么, 做]  \n\n[238766 rows x 5 columns]",
      "text/html": "<div>\n<style scoped>\n    .dataframe tbody tr th:only-of-type {\n        vertical-align: middle;\n    }\n\n    .dataframe tbody tr th {\n        vertical-align: top;\n    }\n\n    .dataframe thead th {\n        text-align: right;\n    }\n</style>\n<table border=\"1\" class=\"dataframe\">\n  <thead>\n    <tr style=\"text-align: right;\">\n      <th></th>\n      <th>query1</th>\n      <th>query2</th>\n      <th>label</th>\n      <th>cut_q1</th>\n      <th>cut_q2</th>\n    </tr>\n  </thead>\n  <tbody>\n    <tr>\n      <th>0</th>\n      <td>喜欢打篮球的男生喜欢什么样的女生</td>\n      <td>爱打篮球的男生喜欢什么样的女生</td>\n      <td>1</td>\n      <td>[喜欢, 打篮球, 的, 男生, 喜欢, 什么样, 的, 女生]</td>\n      <td>[爱, 打篮球, 的, 男生, 喜欢, 什么样, 的, 女生]</td>\n    </tr>\n    <tr>\n      <th>1</th>\n      <td>我手机丢了，我想换个手机</td>\n      <td>我想买个新手机，求推荐</td>\n      <td>1</td>\n      <td>[我, 手机, 丢, 了, ，, 我想, 换个, 手机]</td>\n      <td>[我想, 买个, 新手机, ，, 求, 推荐]</td>\n    </tr>\n    <tr>\n      <th>2</th>\n      <td>大家觉得她好看吗</td>\n      <td>大家觉得跑男好看吗？</td>\n      <td>0</td>\n      <td>[大家, 觉得, 她, 好看, 吗]</td>\n      <td>[大家, 觉得, 跑, 男, 好看, 吗, ？]</td>\n    </tr>\n    <tr>\n      <th>3</th>\n      <td>求秋色之空漫画全集</td>\n      <td>求秋色之空全集漫画</td>\n      <td>1</td>\n      <td>[求, 秋色, 之空, 漫画, 全集]</td>\n      <td>[求, 秋色, 之空, 全集, 漫画]</td>\n    </tr>\n    <tr>\n      <th>4</th>\n      <td>晚上睡觉带着耳机听音乐有什么害处吗？</td>\n      <td>孕妇可以戴耳机听音乐吗?</td>\n      <td>0</td>\n      <td>[晚上, 睡觉, 带, 着, 耳机, 听, 音乐, 有, 什么, 害处, 吗, ？]</td>\n      <td>[孕妇, 可以, 戴, 耳机, 听, 音乐, 吗, ?]</td>\n    </tr>\n    <tr>\n      <th>...</th>\n      <td>...</td>\n      <td>...</td>\n      <td>...</td>\n      <td>...</td>\n      <td>...</td>\n    </tr>\n    <tr>\n      <th>238761</th>\n      <td>女孩子说我是你的汤是什么意思</td>\n      <td>男孩给女孩说你的眼是海什么意思</td>\n      <td>0</td>\n      <td>[女孩子, 说, 我, 是, 你, 的, 汤, 是, 什么, 意思]</td>\n      <td>[男孩, 给, 女孩, 说, 你, 的, 眼, 是, 海, 什么, 意思]</td>\n    </tr>\n    <tr>\n      <th>238762</th>\n      <td>求重生之老公请接招全文</td>\n      <td>求重生之老公请接招&gt;全文</td>\n      <td>1</td>\n      <td>[求, 重生, 之, 老公, 请, 接招, 全文]</td>\n      <td>[求, 重生, 之, 老公, 请, 接招, &gt;, 全文]</td>\n    </tr>\n    <tr>\n      <th>238763</th>\n      <td>求小说电子书，</td>\n      <td>求《甄嬛》小说电子书！</td>\n      <td>0</td>\n      <td>[求, 小说, 电子书, ，]</td>\n      <td>[求, 《, 甄, 嬛, 》, 小说, 电子书, ！]</td>\n    </tr>\n    <tr>\n      <th>238764</th>\n      <td>杭州有什么好玩的地方？</td>\n      <td>杭州有什么好玩的地方求推</td>\n      <td>1</td>\n      <td>[杭州, 有, 什么, 好玩, 的, 地方, ？]</td>\n      <td>[杭州, 有, 什么, 好玩, 的, 地方, 求, 推]</td>\n    </tr>\n    <tr>\n      <th>238765</th>\n      <td>我想做卫生巾代理，哪里有</td>\n      <td>我想做淘宝代理去那找，怎么做</td>\n      <td>0</td>\n      <td>[我, 想, 做, 卫生巾, 代理, ，, 哪里, 有]</td>\n      <td>[我, 想, 做, 淘宝, 代理, 去, 那, 找, ，, 怎么, 做]</td>\n    </tr>\n  </tbody>\n</table>\n<p>238766 rows × 5 columns</p>\n</div>"
     },
     "execution_count": 30,
     "metadata": {},
     "output_type": "execute_result"
    }
   ],
   "source": [
    "word2"
   ],
   "metadata": {
    "collapsed": false
   }
  },
  {
   "cell_type": "code",
   "execution_count": null,
   "outputs": [],
   "source": [],
   "metadata": {
    "collapsed": false
   }
  }
 ],
 "metadata": {
  "kernelspec": {
   "display_name": "Python 3",
   "language": "python",
   "name": "python3"
  },
  "language_info": {
   "codemirror_mode": {
    "name": "ipython",
    "version": 2
   },
   "file_extension": ".py",
   "mimetype": "text/x-python",
   "name": "python",
   "nbconvert_exporter": "python",
   "pygments_lexer": "ipython2",
   "version": "2.7.6"
  }
 },
 "nbformat": 4,
 "nbformat_minor": 0
}
